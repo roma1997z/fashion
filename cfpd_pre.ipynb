{
 "cells": [
  {
   "cell_type": "code",
   "execution_count": 1,
   "metadata": {},
   "outputs": [],
   "source": [
    "import json\n",
    "import numpy as np\n",
    "import pandas as pd\n",
    "import cv2"
   ]
  },
  {
   "cell_type": "markdown",
   "metadata": {},
   "source": [
    "# Convert .mat labels to json"
   ]
  },
  {
   "cell_type": "code",
   "execution_count": null,
   "metadata": {},
   "outputs": [],
   "source": [
    "import make_label\n",
    "make_label.make_ctg_tsv()\n",
    "make_label.make_bbox_json()"
   ]
  },
  {
   "cell_type": "markdown",
   "metadata": {},
   "source": [
    "# Generate csv for labeling"
   ]
  },
  {
   "cell_type": "code",
   "execution_count": null,
   "metadata": {},
   "outputs": [],
   "source": [
    "# Labels to csv file with categoty encoding as 1 if exists on image 0 else\n",
    "def one_hot_category(labs, df_categ):\n",
    "    l = len(df_categ)\n",
    "    a = np.ones(l)\n",
    "    lab_num = df_categ['category'].isin(labs)\n",
    "    return (np.array(lab_num)*a).astype(int)"
   ]
  },
  {
   "cell_type": "code",
   "execution_count": null,
   "metadata": {},
   "outputs": [],
   "source": [
    "#main data\n",
    "with open(\"label/bbox.json\", 'r') as f:\n",
    "    js = json.load(f) \n",
    "    \n",
    "#category names\n",
    "df_categ = pd.read_csv('label/categories.tsv', delimiter = '\\t', index_col = 0)\n",
    "df_categ.head()"
   ]
  },
  {
   "cell_type": "code",
   "execution_count": null,
   "metadata": {},
   "outputs": [],
   "source": [
    "# main process: main data --> 'category_01.csv'\n",
    "\n",
    "df_label = pd.DataFrame(columns = list(df_categ['category']))\n",
    "\n",
    "for i, el in enumerate(js):\n",
    "    idi = el['img_name']\n",
    "    labs =  [it['category'] for it in el['items']]\n",
    "    df_label.loc[idi] = one_hot_category(labs, df_categ)\n",
    "\n",
    "df_label.to_csv('category_01.csv')\n",
    "df_label.head()"
   ]
  },
  {
   "cell_type": "markdown",
   "metadata": {},
   "source": [
    "# Go to data analysis in cfpd_cloth.ipynb"
   ]
  }
 ],
 "metadata": {
  "kernelspec": {
   "display_name": "Python 3",
   "language": "python",
   "name": "python3"
  },
  "language_info": {
   "codemirror_mode": {
    "name": "ipython",
    "version": 3
   },
   "file_extension": ".py",
   "mimetype": "text/x-python",
   "name": "python",
   "nbconvert_exporter": "python",
   "pygments_lexer": "ipython3",
   "version": "3.7.3"
  }
 },
 "nbformat": 4,
 "nbformat_minor": 2
}
